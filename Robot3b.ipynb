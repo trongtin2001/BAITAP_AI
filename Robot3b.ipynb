{
  "nbformat": 4,
  "nbformat_minor": 0,
  "metadata": {
    "colab": {
      "name": "Robot3b.ipynb",
      "provenance": [],
      "authorship_tag": "ABX9TyMkBfird9blcoQ1XjaWmtXb",
      "include_colab_link": true
    },
    "kernelspec": {
      "name": "python3",
      "display_name": "Python 3"
    },
    "language_info": {
      "name": "python"
    }
  },
  "cells": [
    {
      "cell_type": "markdown",
      "metadata": {
        "id": "view-in-github",
        "colab_type": "text"
      },
      "source": [
        "<a href=\"https://colab.research.google.com/github/trongtin2001/BAITAP_AI/blob/main/Robot3b.ipynb\" target=\"_parent\"><img src=\"https://colab.research.google.com/assets/colab-badge.svg\" alt=\"Open In Colab\"/></a>"
      ]
    },
    {
      "cell_type": "code",
      "execution_count": null,
      "metadata": {
        "id": "fYmgka6YWCtA"
      },
      "outputs": [],
      "source": [
        "import keras\n",
        "import numpy as np\n",
        "import matplotlib.pyplot as plt\n",
        "from keras.layers import Dense, Activation, Dropout, BatchNormalization, LSTM\n",
        "from keras.models import Sequential\n",
        "from tensorflow.keras.utils import to_categorical\n",
        "from tensorflow.keras.optimizers import RMSprop\n",
        "from skimage import color\n",
        "from keras.callbacks import EarlyStopping\n"
      ]
    },
    {
      "cell_type": "code",
      "source": [
        "import pandas as pd \n",
        "import seaborn as sns \n",
        "from sklearn.model_selection import train_test_split\n",
        "from keras import callbacks\n",
        "from sklearn.metrics import precision_score, recall_score, confusion_matrix, classification_report, accuracy_score, f1_score \n"
      ],
      "metadata": {
        "id": "7sbfEjcPWKoE"
      },
      "execution_count": null,
      "outputs": []
    },
    {
      "cell_type": "code",
      "source": [
        "import csv\n",
        "import math as m\n",
        "l1 = 50\n",
        "l2 = 40\n",
        "l3 = 20\n",
        "with open('Robot3b.csv','w') as file:\n",
        "  writer = csv.writer(file)\n",
        "  writer.writerow(['tt1','tt2','tt3','Px','Py','T'])\n",
        "\n",
        "  for tt1 in range(-150,151,1):\n",
        "    for tt2 in range(-120,121,1):\n",
        "      for tt3 in range(-90,91,1): \n",
        "        Px = l1*m.cos(tt1) + l2*m.cos(tt1+tt2)+ l3*m.cos(tt1+tt2+tt3)\n",
        "        Py = l1*m.sin(tt1) + l2*m.sin(tt1+tt2)+ l3*m.sin(tt1+tt2+tt3)\n",
        "        T = tt1+tt2+tt3\n",
        "        writer.writerow([tt1,tt2,tt3,Px,Py,T])\n"
      ],
      "metadata": {
        "id": "DEuUK1wRWUwc"
      },
      "execution_count": null,
      "outputs": []
    },
    {
      "cell_type": "code",
      "source": [
        "data=pd.read_csv('Robot3b.csv')\n",
        "data"
      ],
      "metadata": {
        "colab": {
          "base_uri": "https://localhost:8080/",
          "height": 424
        },
        "id": "u-opWYwLWW5M",
        "outputId": "a2faed6b-efbe-4e12-d5c0-ddddd8090a02"
      },
      "execution_count": null,
      "outputs": [
        {
          "output_type": "execute_result",
          "data": {
            "text/plain": [
              "          tt1  tt2  tt3         Px         Py    T\n",
              "0        -150 -120  -90  68.663997  23.607345 -360\n",
              "1        -150 -120  -89  87.410234  27.649215 -359\n",
              "2        -150 -120  -88  94.137753  45.607463 -358\n",
              "3        -150 -120  -87  82.661303  60.971357 -357\n",
              "4        -150 -120  -86  63.532280  59.615405 -356\n",
              "...       ...  ...  ...        ...        ...  ...\n",
              "13129916  150  120   86  63.532280 -59.615405  356\n",
              "13129917  150  120   87  82.661303 -60.971357  357\n",
              "13129918  150  120   88  94.137753 -45.607463  358\n",
              "13129919  150  120   89  87.410234 -27.649215  359\n",
              "13129920  150  120   90  68.663997 -23.607345  360\n",
              "\n",
              "[13129921 rows x 6 columns]"
            ],
            "text/html": [
              "\n",
              "  <div id=\"df-50c9c18f-8fac-48de-aaa0-e66fd8ef6c9b\">\n",
              "    <div class=\"colab-df-container\">\n",
              "      <div>\n",
              "<style scoped>\n",
              "    .dataframe tbody tr th:only-of-type {\n",
              "        vertical-align: middle;\n",
              "    }\n",
              "\n",
              "    .dataframe tbody tr th {\n",
              "        vertical-align: top;\n",
              "    }\n",
              "\n",
              "    .dataframe thead th {\n",
              "        text-align: right;\n",
              "    }\n",
              "</style>\n",
              "<table border=\"1\" class=\"dataframe\">\n",
              "  <thead>\n",
              "    <tr style=\"text-align: right;\">\n",
              "      <th></th>\n",
              "      <th>tt1</th>\n",
              "      <th>tt2</th>\n",
              "      <th>tt3</th>\n",
              "      <th>Px</th>\n",
              "      <th>Py</th>\n",
              "      <th>T</th>\n",
              "    </tr>\n",
              "  </thead>\n",
              "  <tbody>\n",
              "    <tr>\n",
              "      <th>0</th>\n",
              "      <td>-150</td>\n",
              "      <td>-120</td>\n",
              "      <td>-90</td>\n",
              "      <td>68.663997</td>\n",
              "      <td>23.607345</td>\n",
              "      <td>-360</td>\n",
              "    </tr>\n",
              "    <tr>\n",
              "      <th>1</th>\n",
              "      <td>-150</td>\n",
              "      <td>-120</td>\n",
              "      <td>-89</td>\n",
              "      <td>87.410234</td>\n",
              "      <td>27.649215</td>\n",
              "      <td>-359</td>\n",
              "    </tr>\n",
              "    <tr>\n",
              "      <th>2</th>\n",
              "      <td>-150</td>\n",
              "      <td>-120</td>\n",
              "      <td>-88</td>\n",
              "      <td>94.137753</td>\n",
              "      <td>45.607463</td>\n",
              "      <td>-358</td>\n",
              "    </tr>\n",
              "    <tr>\n",
              "      <th>3</th>\n",
              "      <td>-150</td>\n",
              "      <td>-120</td>\n",
              "      <td>-87</td>\n",
              "      <td>82.661303</td>\n",
              "      <td>60.971357</td>\n",
              "      <td>-357</td>\n",
              "    </tr>\n",
              "    <tr>\n",
              "      <th>4</th>\n",
              "      <td>-150</td>\n",
              "      <td>-120</td>\n",
              "      <td>-86</td>\n",
              "      <td>63.532280</td>\n",
              "      <td>59.615405</td>\n",
              "      <td>-356</td>\n",
              "    </tr>\n",
              "    <tr>\n",
              "      <th>...</th>\n",
              "      <td>...</td>\n",
              "      <td>...</td>\n",
              "      <td>...</td>\n",
              "      <td>...</td>\n",
              "      <td>...</td>\n",
              "      <td>...</td>\n",
              "    </tr>\n",
              "    <tr>\n",
              "      <th>13129916</th>\n",
              "      <td>150</td>\n",
              "      <td>120</td>\n",
              "      <td>86</td>\n",
              "      <td>63.532280</td>\n",
              "      <td>-59.615405</td>\n",
              "      <td>356</td>\n",
              "    </tr>\n",
              "    <tr>\n",
              "      <th>13129917</th>\n",
              "      <td>150</td>\n",
              "      <td>120</td>\n",
              "      <td>87</td>\n",
              "      <td>82.661303</td>\n",
              "      <td>-60.971357</td>\n",
              "      <td>357</td>\n",
              "    </tr>\n",
              "    <tr>\n",
              "      <th>13129918</th>\n",
              "      <td>150</td>\n",
              "      <td>120</td>\n",
              "      <td>88</td>\n",
              "      <td>94.137753</td>\n",
              "      <td>-45.607463</td>\n",
              "      <td>358</td>\n",
              "    </tr>\n",
              "    <tr>\n",
              "      <th>13129919</th>\n",
              "      <td>150</td>\n",
              "      <td>120</td>\n",
              "      <td>89</td>\n",
              "      <td>87.410234</td>\n",
              "      <td>-27.649215</td>\n",
              "      <td>359</td>\n",
              "    </tr>\n",
              "    <tr>\n",
              "      <th>13129920</th>\n",
              "      <td>150</td>\n",
              "      <td>120</td>\n",
              "      <td>90</td>\n",
              "      <td>68.663997</td>\n",
              "      <td>-23.607345</td>\n",
              "      <td>360</td>\n",
              "    </tr>\n",
              "  </tbody>\n",
              "</table>\n",
              "<p>13129921 rows × 6 columns</p>\n",
              "</div>\n",
              "      <button class=\"colab-df-convert\" onclick=\"convertToInteractive('df-50c9c18f-8fac-48de-aaa0-e66fd8ef6c9b')\"\n",
              "              title=\"Convert this dataframe to an interactive table.\"\n",
              "              style=\"display:none;\">\n",
              "        \n",
              "  <svg xmlns=\"http://www.w3.org/2000/svg\" height=\"24px\"viewBox=\"0 0 24 24\"\n",
              "       width=\"24px\">\n",
              "    <path d=\"M0 0h24v24H0V0z\" fill=\"none\"/>\n",
              "    <path d=\"M18.56 5.44l.94 2.06.94-2.06 2.06-.94-2.06-.94-.94-2.06-.94 2.06-2.06.94zm-11 1L8.5 8.5l.94-2.06 2.06-.94-2.06-.94L8.5 2.5l-.94 2.06-2.06.94zm10 10l.94 2.06.94-2.06 2.06-.94-2.06-.94-.94-2.06-.94 2.06-2.06.94z\"/><path d=\"M17.41 7.96l-1.37-1.37c-.4-.4-.92-.59-1.43-.59-.52 0-1.04.2-1.43.59L10.3 9.45l-7.72 7.72c-.78.78-.78 2.05 0 2.83L4 21.41c.39.39.9.59 1.41.59.51 0 1.02-.2 1.41-.59l7.78-7.78 2.81-2.81c.8-.78.8-2.07 0-2.86zM5.41 20L4 18.59l7.72-7.72 1.47 1.35L5.41 20z\"/>\n",
              "  </svg>\n",
              "      </button>\n",
              "      \n",
              "  <style>\n",
              "    .colab-df-container {\n",
              "      display:flex;\n",
              "      flex-wrap:wrap;\n",
              "      gap: 12px;\n",
              "    }\n",
              "\n",
              "    .colab-df-convert {\n",
              "      background-color: #E8F0FE;\n",
              "      border: none;\n",
              "      border-radius: 50%;\n",
              "      cursor: pointer;\n",
              "      display: none;\n",
              "      fill: #1967D2;\n",
              "      height: 32px;\n",
              "      padding: 0 0 0 0;\n",
              "      width: 32px;\n",
              "    }\n",
              "\n",
              "    .colab-df-convert:hover {\n",
              "      background-color: #E2EBFA;\n",
              "      box-shadow: 0px 1px 2px rgba(60, 64, 67, 0.3), 0px 1px 3px 1px rgba(60, 64, 67, 0.15);\n",
              "      fill: #174EA6;\n",
              "    }\n",
              "\n",
              "    [theme=dark] .colab-df-convert {\n",
              "      background-color: #3B4455;\n",
              "      fill: #D2E3FC;\n",
              "    }\n",
              "\n",
              "    [theme=dark] .colab-df-convert:hover {\n",
              "      background-color: #434B5C;\n",
              "      box-shadow: 0px 1px 3px 1px rgba(0, 0, 0, 0.15);\n",
              "      filter: drop-shadow(0px 1px 2px rgba(0, 0, 0, 0.3));\n",
              "      fill: #FFFFFF;\n",
              "    }\n",
              "  </style>\n",
              "\n",
              "      <script>\n",
              "        const buttonEl =\n",
              "          document.querySelector('#df-50c9c18f-8fac-48de-aaa0-e66fd8ef6c9b button.colab-df-convert');\n",
              "        buttonEl.style.display =\n",
              "          google.colab.kernel.accessAllowed ? 'block' : 'none';\n",
              "\n",
              "        async function convertToInteractive(key) {\n",
              "          const element = document.querySelector('#df-50c9c18f-8fac-48de-aaa0-e66fd8ef6c9b');\n",
              "          const dataTable =\n",
              "            await google.colab.kernel.invokeFunction('convertToInteractive',\n",
              "                                                     [key], {});\n",
              "          if (!dataTable) return;\n",
              "\n",
              "          const docLinkHtml = 'Like what you see? Visit the ' +\n",
              "            '<a target=\"_blank\" href=https://colab.research.google.com/notebooks/data_table.ipynb>data table notebook</a>'\n",
              "            + ' to learn more about interactive tables.';\n",
              "          element.innerHTML = '';\n",
              "          dataTable['output_type'] = 'display_data';\n",
              "          await google.colab.output.renderOutput(dataTable, element);\n",
              "          const docLink = document.createElement('div');\n",
              "          docLink.innerHTML = docLinkHtml;\n",
              "          element.appendChild(docLink);\n",
              "        }\n",
              "      </script>\n",
              "    </div>\n",
              "  </div>\n",
              "  "
            ]
          },
          "metadata": {},
          "execution_count": 4
        }
      ]
    },
    {
      "cell_type": "code",
      "source": [
        "x=data.drop(data.columns[:3],axis=1)\n",
        "y=data.drop(data.columns[3:],axis=1)"
      ],
      "metadata": {
        "id": "3HVedqxeWxYu"
      },
      "execution_count": null,
      "outputs": []
    },
    {
      "cell_type": "code",
      "source": [
        "x_train,x_test,y_train,y_test=train_test_split(x,y,test_size=0.25,random_state=10)\n"
      ],
      "metadata": {
        "id": "9Bg5pwzHW2jp"
      },
      "execution_count": null,
      "outputs": []
    },
    {
      "cell_type": "code",
      "source": [
        "model=Sequential()\n",
        "model.add(Dense(512,activation='relu',input_shape=(3,)))\n",
        "model.add(Dense(500,activation='relu'))\n",
        "model.add(Dense(300,activation='relu'))\n",
        "model.add(Dense(100,activation='relu'))\n",
        "model.add(Dense(3,activation='softmax'))\n",
        "model.summary()"
      ],
      "metadata": {
        "colab": {
          "base_uri": "https://localhost:8080/"
        },
        "id": "YOXQuvSlW79I",
        "outputId": "807e6c3f-3226-4659-b709-eb52e8e819e3"
      },
      "execution_count": null,
      "outputs": [
        {
          "output_type": "stream",
          "name": "stdout",
          "text": [
            "Model: \"sequential\"\n",
            "_________________________________________________________________\n",
            " Layer (type)                Output Shape              Param #   \n",
            "=================================================================\n",
            " dense (Dense)               (None, 512)               2048      \n",
            "                                                                 \n",
            " dense_1 (Dense)             (None, 500)               256500    \n",
            "                                                                 \n",
            " dense_2 (Dense)             (None, 300)               150300    \n",
            "                                                                 \n",
            " dense_3 (Dense)             (None, 100)               30100     \n",
            "                                                                 \n",
            " dense_4 (Dense)             (None, 3)                 303       \n",
            "                                                                 \n",
            "=================================================================\n",
            "Total params: 439,251\n",
            "Trainable params: 439,251\n",
            "Non-trainable params: 0\n",
            "_________________________________________________________________\n"
          ]
        }
      ]
    },
    {
      "cell_type": "code",
      "source": [
        "model.compile(loss='categorical_crossentropy',optimizer=RMSprop(),metrics=['accuracy'])\n",
        "history = model.fit(x_train,y_train,batch_size = 128,epochs=4,verbose=1,callbacks=[EarlyStopping(monitor='val_loss',patience=20)],validation_data = (x_test, y_test))\n"
      ],
      "metadata": {
        "colab": {
          "base_uri": "https://localhost:8080/"
        },
        "id": "O7GgYy0lW-qe",
        "outputId": "4554ce9a-e7df-412f-eb02-c377a5b5569a"
      },
      "execution_count": null,
      "outputs": [
        {
          "output_type": "stream",
          "name": "stdout",
          "text": [
            "Epoch 1/4\n",
            "76934/76934 [==============================] - 1174s 15ms/step - loss: -6968618934937321472.0000 - accuracy: 0.4570 - val_loss: -42416686897458839552.0000 - val_accuracy: 0.4568\n",
            "Epoch 2/4\n",
            "76934/76934 [==============================] - 1265s 16ms/step - loss: nan - accuracy: 0.4377 - val_loss: nan - val_accuracy: 0.3831\n",
            "Epoch 3/4\n",
            "76934/76934 [==============================] - 1238s 16ms/step - loss: nan - accuracy: 0.3827 - val_loss: nan - val_accuracy: 0.3831\n",
            "Epoch 4/4\n",
            "76934/76934 [==============================] - 1311s 17ms/step - loss: nan - accuracy: 0.3827 - val_loss: nan - val_accuracy: 0.3831\n"
          ]
        }
      ]
    },
    {
      "cell_type": "code",
      "source": [
        "score = model.evaluate(x_test, y_test,verbose=0)\n",
        "print('Sai so kiem tra la:', score[0])\n",
        "print('Do chinh xac kiem tra la:', score[1])"
      ],
      "metadata": {
        "colab": {
          "base_uri": "https://localhost:8080/"
        },
        "id": "nayOSAb1XyVX",
        "outputId": "773605c3-3115-4edc-e42d-3add3bad5133"
      },
      "execution_count": null,
      "outputs": [
        {
          "output_type": "stream",
          "name": "stdout",
          "text": [
            "Sai so kiem tra la: nan\n",
            "Do chinh xac kiem tra la: 0.3830547630786896\n"
          ]
        }
      ]
    },
    {
      "cell_type": "code",
      "source": [
        "model.save('Robot3b.h5')\n",
        "from tensorflow.keras.models import load_model\n",
        "model = load_model('Robot3b.h5')"
      ],
      "metadata": {
        "id": "oX2TaO-oX1z1"
      },
      "execution_count": null,
      "outputs": []
    },
    {
      "cell_type": "code",
      "source": [
        "plt.plot(history.history['accuracy'])\n",
        "plt.plot(history.history['val_accuracy'])\n",
        "plt.title('Model accuracy')\n",
        "plt.ylabel('accuracy')\n",
        "plt.xlabel('Epochs')\n",
        "plt.legend(['train','Validation'])\n",
        "plt.show()"
      ],
      "metadata": {
        "colab": {
          "base_uri": "https://localhost:8080/",
          "height": 295
        },
        "id": "flSR2hyOX3m9",
        "outputId": "b335034e-4e90-4903-e195-f36ab7002151"
      },
      "execution_count": null,
      "outputs": [
        {
          "output_type": "display_data",
          "data": {
            "text/plain": [
              "<Figure size 432x288 with 1 Axes>"
            ],
            "image/png": "[encoded data removed]"
          },
          "metadata": {
            "needs_background": "light"
          }
        }
      ]
    }
  ]
}