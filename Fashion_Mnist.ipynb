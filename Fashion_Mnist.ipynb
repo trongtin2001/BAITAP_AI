{
  "nbformat": 4,
  "nbformat_minor": 0,
  "metadata": {
    "colab": {
      "name": "Fashion_Mnist.ipynb",
      "provenance": [],
      "include_colab_link": true
    },
    "kernelspec": {
      "name": "python3",
      "display_name": "Python 3"
    },
    "language_info": {
      "name": "python"
    }
  },
  "cells": [
    {
      "cell_type": "markdown",
      "metadata": {
        "id": "view-in-github",
        "colab_type": "text"
      },
      "source": [
        "<a href=\"https://colab.research.google.com/github/trongtin2001/BAITAP_AI/blob/main/Fashion_Mnist.ipynb\" target=\"_parent\"><img src=\"https://colab.research.google.com/assets/colab-badge.svg\" alt=\"Open In Colab\"/></a>"
      ]
    },
    {
      "cell_type": "code",
      "execution_count": 1,
      "metadata": {
        "id": "rd1rnIcEmvyy"
      },
      "outputs": [],
      "source": [
        "#import thư viện\n",
        "import numpy as np #thư viện xử lý ma trận\n",
        "from keras.utils import np_utils # thư viện xử lý chuyển class\n",
        "from keras.datasets import fashion_mnist # gọi tập dataset thời trang\n",
        "from keras.models import Sequential # hàm chạy mô hình\n",
        "from keras.layers import Dense, Dropout # tạo mạng nơ ron\n",
        "from tensorflow.keras.optimizers import RMSprop \n",
        "import matplotlib.pyplot as plt  # thư viện dùng để vẽ"
      ]
    },
    {
      "cell_type": "code",
      "source": [
        "# chia tập dữ liệu thành 2 bộ train và test\n",
        "(x_train, y_train),(x_test,y_test) = fashion_mnist.load_data()\n"
      ],
      "metadata": {
        "colab": {
          "base_uri": "https://localhost:8080/"
        },
        "id": "B3GtphU2m0aW",
        "outputId": "b037e29c-415d-4c77-ffbf-04d15e9b4bfc"
      },
      "execution_count": 2,
      "outputs": [
        {
          "output_type": "stream",
          "name": "stdout",
          "text": [
            "Downloading data from https://storage.googleapis.com/tensorflow/tf-keras-datasets/train-labels-idx1-ubyte.gz\n",
            "32768/29515 [=================================] - 0s 0us/step\n",
            "40960/29515 [=========================================] - 0s 0us/step\n",
            "Downloading data from https://storage.googleapis.com/tensorflow/tf-keras-datasets/train-images-idx3-ubyte.gz\n",
            "26427392/26421880 [==============================] - 0s 0us/step\n",
            "26435584/26421880 [==============================] - 0s 0us/step\n",
            "Downloading data from https://storage.googleapis.com/tensorflow/tf-keras-datasets/t10k-labels-idx1-ubyte.gz\n",
            "16384/5148 [===============================================================================================] - 0s 0us/step\n",
            "Downloading data from https://storage.googleapis.com/tensorflow/tf-keras-datasets/t10k-images-idx3-ubyte.gz\n",
            "4423680/4422102 [==============================] - 0s 0us/step\n",
            "4431872/4422102 [==============================] - 0s 0us/step\n"
          ]
        }
      ]
    },
    {
      "cell_type": "code",
      "source": [
        "# xem kích thược của tập dữ liệu\n",
        "print('Kích thước x_train: ', x_train.shape)\n",
        "print('Kích thước y_train: ', y_train.shape)\n",
        "print('Kích thước x_test: ', x_test.shape)\n",
        "print('Kích thước y_test: ', y_test.shape)"
      ],
      "metadata": {
        "colab": {
          "base_uri": "https://localhost:8080/"
        },
        "id": "e0Vf-LkPm--q",
        "outputId": "a1ff0b09-6011-41e7-e6ac-54028dfdda9f"
      },
      "execution_count": 3,
      "outputs": [
        {
          "output_type": "stream",
          "name": "stdout",
          "text": [
            "Kích thước x_train:  (60000, 28, 28)\n",
            "Kích thước y_train:  (60000,)\n",
            "Kích thước x_test:  (10000, 28, 28)\n",
            "Kích thước y_test:  (10000,)\n"
          ]
        }
      ]
    },
    {
      "cell_type": "code",
      "source": [
        "#chuyển chiều của x từ 3 chiều về 2 chiều\n",
        "x_train = x_train.reshape(60000,784)\n",
        "x_test = x_test.reshape(10000,784)\n",
        "# ép kiểu\n",
        "x_train = x_train.astype('float32')\n",
        "x_test = x_test.astype('float32')\n",
        "#chuẩn hóa dữ liệu\n",
        "x_train /=255\n",
        "x_test /=255\n",
        "#chuyển y từ 1 class thành 10 class\n",
        "y_train = np_utils.to_categorical(y_train,10)\n",
        "y_test = np_utils.to_categorical(y_test,10)"
      ],
      "metadata": {
        "id": "20htAt23nDtR"
      },
      "execution_count": 4,
      "outputs": []
    },
    {
      "cell_type": "code",
      "source": [
        "#tạo mạng nơ-ron\n",
        "model = Sequential()\n",
        "model.add(Dense(512,activation='relu',input_shape=(784,)))\n",
        "model.add(Dropout(0.2))\n",
        "model.add(Dense(512,activation='relu'))\n",
        "model.add(Dropout(0.2))\n",
        "model.add(Dense(10,activation='softmax'))\n",
        "model.summary()"
      ],
      "metadata": {
        "colab": {
          "base_uri": "https://localhost:8080/"
        },
        "id": "4KvwWCepnFLj",
        "outputId": "614cfcd0-8f06-463f-f10b-022402865b71"
      },
      "execution_count": 5,
      "outputs": [
        {
          "output_type": "stream",
          "name": "stdout",
          "text": [
            "Model: \"sequential\"\n",
            "_________________________________________________________________\n",
            " Layer (type)                Output Shape              Param #   \n",
            "=================================================================\n",
            " dense (Dense)               (None, 512)               401920    \n",
            "                                                                 \n",
            " dropout (Dropout)           (None, 512)               0         \n",
            "                                                                 \n",
            " dense_1 (Dense)             (None, 512)               262656    \n",
            "                                                                 \n",
            " dropout_1 (Dropout)         (None, 512)               0         \n",
            "                                                                 \n",
            " dense_2 (Dense)             (None, 10)                5130      \n",
            "                                                                 \n",
            "=================================================================\n",
            "Total params: 669,706\n",
            "Trainable params: 669,706\n",
            "Non-trainable params: 0\n",
            "_________________________________________________________________\n"
          ]
        }
      ]
    },
    {
      "cell_type": "code",
      "source": [
        "#chạy model với số lần học là 500 và độ kiên nhẫn là 100\n",
        "model.compile(loss='categorical_crossentropy',optimizer=RMSprop(), metrics=['accuracy'])\n",
        "model.compile(loss='categorical_crossentropy',optimizer=RMSprop(), metrics=['accuracy'])\n",
        "from keras.callbacks import EarlyStopping\n",
        "history = model.fit(x_train,y_train,batch_size=128,epochs=50,verbose=1,\n",
        "                    validation_split=0.2,callbacks=[EarlyStopping(monitor='val_loss',patience=100)])"
      ],
      "metadata": {
        "colab": {
          "base_uri": "https://localhost:8080/"
        },
        "id": "7pXZUrAbnHNY",
        "outputId": "c1aa2906-0363-4590-e196-5ffaaf72134f"
      },
      "execution_count": 7,
      "outputs": [
        {
          "output_type": "stream",
          "name": "stdout",
          "text": [
            "Epoch 1/50\n",
            "375/375 [==============================] - 8s 19ms/step - loss: 0.3805 - accuracy: 0.8618 - val_loss: 0.3601 - val_accuracy: 0.8732\n",
            "Epoch 2/50\n",
            "375/375 [==============================] - 7s 19ms/step - loss: 0.3547 - accuracy: 0.8696 - val_loss: 0.3582 - val_accuracy: 0.8756\n",
            "Epoch 3/50\n",
            "375/375 [==============================] - 7s 19ms/step - loss: 0.3401 - accuracy: 0.8754 - val_loss: 0.3426 - val_accuracy: 0.8770\n",
            "Epoch 4/50\n",
            "375/375 [==============================] - 7s 19ms/step - loss: 0.3303 - accuracy: 0.8799 - val_loss: 0.3592 - val_accuracy: 0.8782\n",
            "Epoch 5/50\n",
            "375/375 [==============================] - 7s 19ms/step - loss: 0.3203 - accuracy: 0.8840 - val_loss: 0.3638 - val_accuracy: 0.8752\n",
            "Epoch 6/50\n",
            "375/375 [==============================] - 7s 19ms/step - loss: 0.3127 - accuracy: 0.8875 - val_loss: 0.3406 - val_accuracy: 0.8851\n",
            "Epoch 7/50\n",
            "375/375 [==============================] - 7s 19ms/step - loss: 0.3049 - accuracy: 0.8901 - val_loss: 0.3538 - val_accuracy: 0.8813\n",
            "Epoch 8/50\n",
            "375/375 [==============================] - 7s 19ms/step - loss: 0.2993 - accuracy: 0.8922 - val_loss: 0.3486 - val_accuracy: 0.8908\n",
            "Epoch 9/50\n",
            "375/375 [==============================] - 7s 19ms/step - loss: 0.2952 - accuracy: 0.8935 - val_loss: 0.3607 - val_accuracy: 0.8858\n",
            "Epoch 10/50\n",
            "375/375 [==============================] - 7s 19ms/step - loss: 0.2885 - accuracy: 0.8953 - val_loss: 0.3464 - val_accuracy: 0.8888\n",
            "Epoch 11/50\n",
            "375/375 [==============================] - 7s 19ms/step - loss: 0.2850 - accuracy: 0.8985 - val_loss: 0.3602 - val_accuracy: 0.8877\n",
            "Epoch 12/50\n",
            "375/375 [==============================] - 8s 21ms/step - loss: 0.2810 - accuracy: 0.8994 - val_loss: 0.3959 - val_accuracy: 0.8726\n",
            "Epoch 13/50\n",
            "375/375 [==============================] - 7s 19ms/step - loss: 0.2762 - accuracy: 0.9004 - val_loss: 0.3900 - val_accuracy: 0.8838\n",
            "Epoch 14/50\n",
            "375/375 [==============================] - 7s 19ms/step - loss: 0.2698 - accuracy: 0.9018 - val_loss: 0.3880 - val_accuracy: 0.8918\n",
            "Epoch 15/50\n",
            "375/375 [==============================] - 7s 19ms/step - loss: 0.2692 - accuracy: 0.9038 - val_loss: 0.3729 - val_accuracy: 0.8885\n",
            "Epoch 16/50\n",
            "375/375 [==============================] - 7s 19ms/step - loss: 0.2642 - accuracy: 0.9051 - val_loss: 0.4715 - val_accuracy: 0.8652\n",
            "Epoch 17/50\n",
            "375/375 [==============================] - 7s 19ms/step - loss: 0.2626 - accuracy: 0.9073 - val_loss: 0.3775 - val_accuracy: 0.8887\n",
            "Epoch 18/50\n",
            "375/375 [==============================] - 8s 21ms/step - loss: 0.2607 - accuracy: 0.9081 - val_loss: 0.4200 - val_accuracy: 0.8913\n",
            "Epoch 19/50\n",
            "375/375 [==============================] - 7s 19ms/step - loss: 0.2575 - accuracy: 0.9087 - val_loss: 0.3936 - val_accuracy: 0.8930\n",
            "Epoch 20/50\n",
            "375/375 [==============================] - 7s 19ms/step - loss: 0.2554 - accuracy: 0.9100 - val_loss: 0.4347 - val_accuracy: 0.8875\n",
            "Epoch 21/50\n",
            "375/375 [==============================] - 7s 19ms/step - loss: 0.2540 - accuracy: 0.9113 - val_loss: 0.4445 - val_accuracy: 0.8902\n",
            "Epoch 22/50\n",
            "375/375 [==============================] - 7s 19ms/step - loss: 0.2531 - accuracy: 0.9111 - val_loss: 0.4432 - val_accuracy: 0.8892\n",
            "Epoch 23/50\n",
            "375/375 [==============================] - 7s 19ms/step - loss: 0.2513 - accuracy: 0.9127 - val_loss: 0.4247 - val_accuracy: 0.8921\n",
            "Epoch 24/50\n",
            "375/375 [==============================] - 7s 19ms/step - loss: 0.2489 - accuracy: 0.9125 - val_loss: 0.4335 - val_accuracy: 0.8878\n",
            "Epoch 25/50\n",
            "375/375 [==============================] - 7s 19ms/step - loss: 0.2433 - accuracy: 0.9144 - val_loss: 0.5199 - val_accuracy: 0.8873\n",
            "Epoch 26/50\n",
            "375/375 [==============================] - 7s 19ms/step - loss: 0.2406 - accuracy: 0.9135 - val_loss: 0.4734 - val_accuracy: 0.8934\n",
            "Epoch 27/50\n",
            "375/375 [==============================] - 7s 19ms/step - loss: 0.2402 - accuracy: 0.9173 - val_loss: 0.4605 - val_accuracy: 0.8967\n",
            "Epoch 28/50\n",
            "375/375 [==============================] - 7s 19ms/step - loss: 0.2389 - accuracy: 0.9163 - val_loss: 0.4966 - val_accuracy: 0.8916\n",
            "Epoch 29/50\n",
            "375/375 [==============================] - 7s 19ms/step - loss: 0.2395 - accuracy: 0.9170 - val_loss: 0.4134 - val_accuracy: 0.8940\n",
            "Epoch 30/50\n",
            "375/375 [==============================] - 7s 19ms/step - loss: 0.2355 - accuracy: 0.9183 - val_loss: 0.4746 - val_accuracy: 0.8937\n",
            "Epoch 31/50\n",
            "375/375 [==============================] - 7s 19ms/step - loss: 0.2320 - accuracy: 0.9185 - val_loss: 0.5082 - val_accuracy: 0.8838\n",
            "Epoch 32/50\n",
            "375/375 [==============================] - 7s 19ms/step - loss: 0.2359 - accuracy: 0.9196 - val_loss: 0.4405 - val_accuracy: 0.8982\n",
            "Epoch 33/50\n",
            "375/375 [==============================] - 7s 19ms/step - loss: 0.2297 - accuracy: 0.9200 - val_loss: 0.5211 - val_accuracy: 0.8849\n",
            "Epoch 34/50\n",
            "375/375 [==============================] - 7s 19ms/step - loss: 0.2295 - accuracy: 0.9193 - val_loss: 0.4851 - val_accuracy: 0.8949\n",
            "Epoch 35/50\n",
            "375/375 [==============================] - 7s 19ms/step - loss: 0.2240 - accuracy: 0.9215 - val_loss: 0.5085 - val_accuracy: 0.8888\n",
            "Epoch 36/50\n",
            "375/375 [==============================] - 7s 19ms/step - loss: 0.2310 - accuracy: 0.9210 - val_loss: 0.4907 - val_accuracy: 0.8956\n",
            "Epoch 37/50\n",
            "375/375 [==============================] - 7s 19ms/step - loss: 0.2182 - accuracy: 0.9239 - val_loss: 0.5234 - val_accuracy: 0.8923\n",
            "Epoch 38/50\n",
            "375/375 [==============================] - 7s 19ms/step - loss: 0.2274 - accuracy: 0.9232 - val_loss: 0.5122 - val_accuracy: 0.8930\n",
            "Epoch 39/50\n",
            "375/375 [==============================] - 7s 19ms/step - loss: 0.2312 - accuracy: 0.9222 - val_loss: 0.5338 - val_accuracy: 0.8938\n",
            "Epoch 40/50\n",
            "375/375 [==============================] - 7s 19ms/step - loss: 0.2257 - accuracy: 0.9228 - val_loss: 0.5154 - val_accuracy: 0.8839\n",
            "Epoch 41/50\n",
            "375/375 [==============================] - 7s 19ms/step - loss: 0.2203 - accuracy: 0.9244 - val_loss: 0.5211 - val_accuracy: 0.8917\n",
            "Epoch 42/50\n",
            "375/375 [==============================] - 7s 19ms/step - loss: 0.2218 - accuracy: 0.9253 - val_loss: 0.5624 - val_accuracy: 0.8920\n",
            "Epoch 43/50\n",
            "375/375 [==============================] - 7s 19ms/step - loss: 0.2218 - accuracy: 0.9247 - val_loss: 0.5497 - val_accuracy: 0.8950\n",
            "Epoch 44/50\n",
            "375/375 [==============================] - 7s 19ms/step - loss: 0.2190 - accuracy: 0.9271 - val_loss: 0.5473 - val_accuracy: 0.8885\n",
            "Epoch 45/50\n",
            "375/375 [==============================] - 7s 19ms/step - loss: 0.2139 - accuracy: 0.9288 - val_loss: 0.6014 - val_accuracy: 0.8869\n",
            "Epoch 46/50\n",
            "375/375 [==============================] - 7s 19ms/step - loss: 0.2122 - accuracy: 0.9261 - val_loss: 0.6257 - val_accuracy: 0.8953\n",
            "Epoch 47/50\n",
            "375/375 [==============================] - 7s 19ms/step - loss: 0.2142 - accuracy: 0.9281 - val_loss: 0.6273 - val_accuracy: 0.8959\n",
            "Epoch 48/50\n",
            "375/375 [==============================] - 7s 19ms/step - loss: 0.2143 - accuracy: 0.9271 - val_loss: 0.5703 - val_accuracy: 0.8936\n",
            "Epoch 49/50\n",
            "375/375 [==============================] - 7s 19ms/step - loss: 0.2115 - accuracy: 0.9280 - val_loss: 0.5802 - val_accuracy: 0.8954\n",
            "Epoch 50/50\n",
            "375/375 [==============================] - 7s 19ms/step - loss: 0.2065 - accuracy: 0.9298 - val_loss: 0.6520 - val_accuracy: 0.8918\n"
          ]
        }
      ]
    },
    {
      "cell_type": "code",
      "source": [
        "#đánh giá chất lượng của mô hình và vẽ lại\n",
        "score = model.evaluate(x_test,y_test,verbose=0)\n",
        "print('Sai số kiểm tra là: ',score[0])\n",
        "print('Độ chính xác kiểm tra là: ',score[1])\n",
        "#vẽ đồ thị\n",
        "plt.plot(history.history['accuracy'])\n",
        "plt.plot(history.history['val_accuracy'])\n",
        "plt.title('model accuracy')\n",
        "plt.ylabel('accuracy')\n",
        "plt.xlabel('epochs')\n",
        "plt.legend(['train','Validation'])\n",
        "plt.show()"
      ],
      "metadata": {
        "colab": {
          "base_uri": "https://localhost:8080/",
          "height": 330
        },
        "id": "vTUGmu-dnI0T",
        "outputId": "5af66d5e-bd28-4439-fd25-78ecc89f044c"
      },
      "execution_count": 8,
      "outputs": [
        {
          "output_type": "stream",
          "name": "stdout",
          "text": [
            "Sai số kiểm tra là:  0.6941582560539246\n",
            "Độ chính xác kiểm tra là:  0.8870000243186951\n"
          ]
        },
        {
          "output_type": "display_data",
          "data": {
            "text/plain": [
              "<Figure size 432x288 with 1 Axes>"
            ],
            "image/png": "[encoded data removed]"
          },
          "metadata": {
            "needs_background": "light"
          }
        }
      ]
    },
    {
      "cell_type": "code",
      "source": [
        "model.save('Fashion_Mnist.h5')"
      ],
      "metadata": {
        "id": "tuAgsGcdVR5j"
      },
      "execution_count": 9,
      "outputs": []
    }
  ]
}